import zipfile

from zipfile import ZipFile

import math

from PIL import Image, ImageDraw

import pytesseract

import cv2 as cv

import numpy as np

from kraken import pageseg

import matplotlib.pyplot as plt

%matplotlib inline

 

# loading the face detection classifier

face_cascade = cv.CascadeClassifier('readonly/haarcascade_frontalface_default.xml')

# the rest is up to you!

 

def zip2ImageList(zip):

    '''Extracts and saves images from the passed zipfile string filepath to a list

   

    :param img: a string representing a filepath to a zipfile

    :return img: A list of PIL.Image objects

    '''

    with ZipFile(zip, 'r') as myzip:

        myzip.extractall()

        im_list = []

        for file in myzip.namelist():

            im = Image.open(file)

            im_list.append(im)

            #display(im)

        return im_list

def boundingBoxes(image):

    '''searches PIL Image for words and creates unique list of words mentioned in Image

   

    :param img: a PIL images

    :return img: a list of unique words mentioned in sheet

    '''

    # call Kraken to identify text areas

    return pageseg.segment(image.convert('1'), black_colseps=True)['boxes']

   

    # return unique list of words mentioned

    #return box2Words2Faces(image.convert('1'), bounding_boxes, search_word)

 

def box2Words(img, bounding_boxes, search_word):

    '''

    '''  

 

    for box in bounding_boxes:

        # crop that to box size

        crop_img = img.copy().crop(box)

        #display(crop_img)

        # pass cropped image to tesseract

        text = pytesseract.image_to_string(crop_img)

       

        if len(text) >= 1: #don't bother checking empty text rows

            #print("Text: ", text, "; Text len: ", len(text), "; Box dimensions: ", box)

            for word in text.strip(",").strip(".").strip(":").strip(";").strip("!").strip("-").strip('”').strip("(").strip(")").strip().split(" "):

                #print(word)

                if word.lower() == search_word.lower():

                    #print("Found the word: ", )

                    return True

           

    return False

 

def detectFaces(img):

   

    face_img = np.asarray(img.copy())

   

    gray = cv.cvtColor(face_img, cv.COLOR_BGR2GRAY) #create cv image in grayscale, NOTE: needs to be a numpy array

   

    faces = face_cascade.detectMultiScale(gray, scaleFactor=1.2, minNeighbors=5) #find faces

 

    return faces

 

def showFaces(img, faces):

   

    face_img = np.asarray(img.copy())

   

    gray = cv.cvtColor(face_img, cv.COLOR_BGR2GRAY) #create cv image in grayscale, NOTE: needs to be a numpy array

   

    for (x,y,w,h) in faces:

        cv.rectangle(face_img, (x,y), (x+w, y+h), (255,255,255), 10)

 

    return face_img

 

def faceCrop(img, face_rects):

    '''

    '''  

   

    faceList = []

   

    for (x,y,w,h) in face_rects:

        # crop that to box size

        crop_img = img.copy().crop((x,y,x+w, y+h))

        #display(crop_img)

        faceList.append(crop_img)

   

    return faceList

 

def contactSheet(img_list):

   

    img_count = len(img_list)

   

    if img_count == 0:

        return #exit program if img_list is empy

   

    #set contact board h and w

    image_hw = 100  #set square dimensions of h and w for individual images

    contact_w = image_hw*5

    contact_h = math.ceil(img_count / 5) * image_hw

   

    #TESTING

    '''

    print("len: ", img_count)

    print("img_list: ", img_list)

    print("contact_w: ", contact_w)

    print("contact_h: ", contact_h)

    for img in img_list:

       display(img)

    '''

   

    # create a contact sheet

    contact_sheet=Image.new(img_list[0].mode, (contact_w, contact_h))

    x=0

    y=0

   

    for pos in range(img_count):

       

        #resize image to dimensions

        temp_img = img_list[pos].resize((image_hw, image_hw))

       

        '''

        #TESTING

        print("pos: ", pos)

        print("x: ", x)

        print("y: ", y)

        display(temp_img)

        '''

       

        # Lets paste the current image into the contact sheet

        contact_sheet.paste(temp_img, (x, y))

       

        #update x and y position

        if pos < 3: #then still top row, only update X but keep Y the same

            x += image_hw

        elif pos == 4: #the reset x to 0 and move y

            x = 0

            y += image_hw

        else: #past 5 just keep moving the x

            x += image_hw

 

    display(contact_sheet)

       

 

#STEP 1: Open Files and Get Word Input

 

search_word = input("enter a word to search: ")

 

zipfile_str = './readonly/small_img.zip'

 

# open zipfile contents to list of PIL images

im_list = zip2ImageList(zipfile_str)

 

#other objects we'll need

listOfBoundingBoxes = []

 

#STEP 2

for num in range(len(im_list)):

    listOfBoundingBoxes.append(boundingBoxes(im_list[num]))

 

#STEP 3

# pass boxes to get words from it

faceNeeded = []

 

for num in range(len(im_list)):

    faceNeeded.append(box2Words(im_list[num].convert('1'), listOfBoundingBoxes[num], search_word))

 

#STEP 4

face_rects = []

for num in range(len(im_list)):

    if faceNeeded[num] == True:

        face_rects.append((im_list[num], detectFaces(im_list[num])))

    else:

        face_rects.append(False)

 

#STEP 5

#displays the faces as Img crops as list

for num in range(len(im_list)):

    if face_rects[num] == False: #word not found

        print("Keyword not found in ")

    elif len(face_rects[num][1]) == 0: #if word found but Face len is 0

        print("Keyword found but no faces found")

    else:

        print("Keyword found!")

        contactSheet(faceCrop(im_list[0], face_rects[num][1]))
